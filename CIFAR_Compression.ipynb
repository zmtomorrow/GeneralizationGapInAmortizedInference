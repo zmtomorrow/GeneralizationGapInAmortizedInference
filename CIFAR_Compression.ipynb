{
 "cells": [
  {
   "cell_type": "code",
   "execution_count": 1,
   "id": "bd7a962d",
   "metadata": {},
   "outputs": [
    {
     "name": "stderr",
     "output_type": "stream",
     "text": [
      "/home/mingtian/miniconda3/envs/my-rdkit-env/lib/python3.9/site-packages/tqdm/auto.py:22: TqdmWarning: IProgress not found. Please update jupyter and ipywidgets. See https://ipywidgets.readthedocs.io/en/stable/user_install.html\n",
      "  from .autonotebook import tqdm as notebook_tqdm\n"
     ]
    }
   ],
   "source": [
    "import torch\n",
    "from model import *\n",
    "import numpy as np\n",
    "from utils import *\n",
    "from coder.BitsBack import *\n",
    "from tqdm import tqdm\n",
    "import time\n",
    "torch.backends.cudnn.deterministic = True\n",
    "torch.backends.cudnn.benchmark = False\n",
    "opt = {}\n",
    "\n",
    "\n",
    "opt[\"device\"] = torch.device(\"cpu\")\n",
    "opt[\"if_cuda\"] = False\n",
    "\n",
    "def test(model,test_data,size,c_opt):\n",
    "    D=np.prod(size)\n",
    "    theory_list=[]\n",
    "    true_list=[]\n",
    "    compression_time=[]\n",
    "    decompression_time=[]\n",
    "    for i in tqdm(range(0,len(test_data))):\n",
    "        test_img=test_data[i:i+1]\n",
    "        ansstack = ANSStack(c_opt['s_prec'], c_opt['t_prec'],c_opt['p_prec'],randominit=True)\n",
    "        stack_init_size=ansstack.get_length()\n",
    "        \n",
    "        start=time.time()\n",
    "        ansstack =BBCompression(test_img.numpy(),ansstack,model,c_opt)\n",
    "        end=time.time()\n",
    "        compression_time.append(end-start)\n",
    "\n",
    "\n",
    "        true_list.append((ansstack.get_length()-stack_init_size)/D)\n",
    "        \n",
    "        start=time.time()\n",
    "        decode_img,ansstack=BBDecompression(ansstack,model,c_opt)\n",
    "        end=time.time()\n",
    "        decompression_time.append(end-start)\n",
    "        if (np.int64(decode_img*255).reshape(-1)-np.int64(test_img*255).reshape(-1)).sum().item()>0:\n",
    "            print('Error')\n",
    "\n",
    "\n",
    "    return np.asarray(true_list).mean(),np.asarray(compression_time).mean(),np.asarray(decompression_time).mean()"
   ]
  },
  {
   "cell_type": "code",
   "execution_count": 2,
   "id": "06acc679",
   "metadata": {},
   "outputs": [
    {
     "name": "stderr",
     "output_type": "stream",
     "text": [
      "100%|███████████████████████████████████████████████████████████████████████████████| 1000/1000 [07:53<00:00,  2.11it/s]"
     ]
    },
    {
     "name": "stdout",
     "output_type": "stream",
     "text": [
      "BPD: 4.605149739583334\n",
      "averge compression time: 0.243542644739151\n",
      "averge decompression time: 0.22901544713973998\n"
     ]
    },
    {
     "name": "stderr",
     "output_type": "stream",
     "text": [
      "\n"
     ]
    }
   ],
   "source": [
    "opt[\"device\"] = torch.device(\"cpu\")\n",
    "opt['dataset_path']='../data/cifar10'\n",
    "opt[\"if_cuda\"] = False\n",
    "opt['data_set']='CIFAR'\n",
    "opt['x_dis']='Logistic'\n",
    "opt['z_channels']=4\n",
    "opt['z_dim']=opt['z_channels']*64\n",
    "opt['save_path']='./'+opt['data_set']+'/'+opt['x_dis']+'_z'+str(opt['z_dim'])+'/'\n",
    "load_name='epoch500.pth'\n",
    "model=VAE(opt).to(opt['device'])\n",
    "model.load_state_dict(torch.load(opt['save_path']+load_name))\n",
    "\n",
    "\n",
    "test_data=torchvision.datasets.CIFAR10(opt['dataset_path'], train=False, download=False)\n",
    "test_img=torch.tensor(test_data.data[:1000],dtype=torch.float32).permute(0,3,1,2).contiguous()/255.\n",
    "\n",
    "\n",
    "c_opt={}\n",
    "c_opt['data_set']=opt['data_set']\n",
    "c_opt['device']=opt[\"device\"]\n",
    "c_opt['s_prec']=64\n",
    "c_opt['t_prec']=32\n",
    "c_opt['p_prec']=16\n",
    "c_opt['log_num_discretization']=16\n",
    "c_opt['z_dim']=256\n",
    "c_opt['x_dim']=3072\n",
    "c_opt['discretization_scheme']=std_gaussian_buckets(c_opt['log_num_discretization'])\n",
    "c_opt['discretization_centres']=std_gaussian_centres(c_opt['log_num_discretization'])\n",
    "c_opt['obs_dis']='Logistic'\n",
    "c_opt['optimal']=False\n",
    "\n",
    "b_bpd,b_c_time,b_d_time=test(model,test_img,c_opt['x_dim'],c_opt)\n",
    "\n",
    "print('BPD:',b_bpd)\n",
    "print('averge compression time:',b_c_time)\n",
    "print('averge decompression time:', b_d_time)"
   ]
  },
  {
   "cell_type": "code",
   "execution_count": 3,
   "id": "f33b99c9",
   "metadata": {},
   "outputs": [
    {
     "name": "stderr",
     "output_type": "stream",
     "text": [
      "100%|███████████████████████████████████████████████████████████████████████████████| 1000/1000 [07:54<00:00,  2.11it/s]"
     ]
    },
    {
     "name": "stdout",
     "output_type": "stream",
     "text": [
      "BPD: 4.586313802083334\n",
      "averge compression time: 0.2440767457485199\n",
      "averge decompression time: 0.2298517062664032\n"
     ]
    },
    {
     "name": "stderr",
     "output_type": "stream",
     "text": [
      "\n"
     ]
    }
   ],
   "source": [
    "opt[\"device\"] = torch.device(\"cpu\")\n",
    "opt[\"if_cuda\"] = False\n",
    "opt['data_set']='CIFAR'\n",
    "opt['x_dis']='Logistic'\n",
    "opt['z_channels']=4\n",
    "opt['save_path']='./save_logistic/'\n",
    "opt['dataset_path']='../data/cifar10'\n",
    "opt['z_dim']=opt['z_channels']*64\n",
    "opt['save_path']='./'+opt['data_set']+'/'+opt['x_dis']+'_z'+str(opt['z_dim'])+'/'\n",
    "load_name='epoch500_improved.pth'\n",
    "model=VAE(opt).to(opt['device'])\n",
    "model.load_state_dict(torch.load(opt['save_path']+load_name))\n",
    "\n",
    "\n",
    "test_data=torchvision.datasets.CIFAR10(opt['dataset_path'], train=False, download=False)\n",
    "test_img=torch.tensor(test_data.data[:1000],dtype=torch.float32).permute(0,3,1,2).contiguous()/255.\n",
    "\n",
    "\n",
    "c_opt={}\n",
    "c_opt['data_set']=opt['data_set']\n",
    "c_opt['device']=opt[\"device\"]\n",
    "c_opt['s_prec']=64\n",
    "c_opt['t_prec']=32\n",
    "c_opt['p_prec']=16\n",
    "c_opt['log_num_discretization']=16\n",
    "c_opt['z_dim']=256\n",
    "c_opt['x_dim']=3072\n",
    "c_opt['discretization_scheme']=std_gaussian_buckets(c_opt['log_num_discretization'])\n",
    "c_opt['discretization_centres']=std_gaussian_centres(c_opt['log_num_discretization'])\n",
    "c_opt['obs_dis']='Logistic'\n",
    "c_opt['optimal']=False\n",
    "\n",
    "r_bpd,r_c_time,r_d_time=test(model,test_img,c_opt['x_dim'],c_opt)\n",
    "\n",
    "print('BPD:',r_bpd)\n",
    "print('averge compression time:',r_c_time)\n",
    "print('averge decompression time:', r_d_time)"
   ]
  },
  {
   "cell_type": "code",
   "execution_count": 4,
   "id": "7de43a25",
   "metadata": {},
   "outputs": [
    {
     "name": "stderr",
     "output_type": "stream",
     "text": [
      "100%|███████████████████████████████████████████████████████████████████████████████| 1000/1000 [08:43<00:00,  1.91it/s]\n"
     ]
    },
    {
     "name": "stdout",
     "output_type": "stream",
     "text": [
      "1 4.602138020833333 0.26634430050849917 0.25589850401878356\n"
     ]
    },
    {
     "name": "stderr",
     "output_type": "stream",
     "text": [
      "100%|███████████████████████████████████████████████████████████████████████████████| 1000/1000 [09:39<00:00,  1.73it/s]\n"
     ]
    },
    {
     "name": "stdout",
     "output_type": "stream",
     "text": [
      "2 4.599530924479167 0.295080304145813 0.28370441651344297\n"
     ]
    },
    {
     "name": "stderr",
     "output_type": "stream",
     "text": [
      "100%|███████████████████████████████████████████████████████████████████████████████| 1000/1000 [09:58<00:00,  1.67it/s]\n"
     ]
    },
    {
     "name": "stdout",
     "output_type": "stream",
     "text": [
      "3 4.597584309895833 0.3011756598949432 0.2963235890865326\n"
     ]
    },
    {
     "name": "stderr",
     "output_type": "stream",
     "text": [
      "100%|███████████████████████████████████████████████████████████████████████████████| 1000/1000 [10:38<00:00,  1.57it/s]\n"
     ]
    },
    {
     "name": "stdout",
     "output_type": "stream",
     "text": [
      "4 4.594644205729166 0.32487206053733825 0.31293197202682493\n"
     ]
    },
    {
     "name": "stderr",
     "output_type": "stream",
     "text": [
      "100%|███████████████████████████████████████████████████████████████████████████████| 1000/1000 [11:08<00:00,  1.49it/s]\n"
     ]
    },
    {
     "name": "stdout",
     "output_type": "stream",
     "text": [
      "5 4.5918759765625 0.33828197383880615 0.3297482509613037\n"
     ]
    },
    {
     "name": "stderr",
     "output_type": "stream",
     "text": [
      "100%|███████████████████████████████████████████████████████████████████████████████| 1000/1000 [11:39<00:00,  1.43it/s]\n"
     ]
    },
    {
     "name": "stdout",
     "output_type": "stream",
     "text": [
      "6 4.5884443359375 0.3525846316814423 0.34577216601371763\n"
     ]
    },
    {
     "name": "stderr",
     "output_type": "stream",
     "text": [
      "100%|███████████████████████████████████████████████████████████████████████████████| 1000/1000 [12:10<00:00,  1.37it/s]\n"
     ]
    },
    {
     "name": "stdout",
     "output_type": "stream",
     "text": [
      "7 4.587548177083333 0.3675091440677643 0.36243129801750185\n"
     ]
    },
    {
     "name": "stderr",
     "output_type": "stream",
     "text": [
      "100%|███████████████████████████████████████████████████████████████████████████████| 1000/1000 [12:44<00:00,  1.31it/s]\n"
     ]
    },
    {
     "name": "stdout",
     "output_type": "stream",
     "text": [
      "8 4.5849248046875 0.3832390670776367 0.3799110963344574\n"
     ]
    },
    {
     "name": "stderr",
     "output_type": "stream",
     "text": [
      "100%|███████████████████████████████████████████████████████████████████████████████| 1000/1000 [13:19<00:00,  1.25it/s]\n"
     ]
    },
    {
     "name": "stdout",
     "output_type": "stream",
     "text": [
      "9 4.582319010416666 0.40244092369079587 0.39668389868736265\n"
     ]
    },
    {
     "name": "stderr",
     "output_type": "stream",
     "text": [
      "100%|███████████████████████████████████████████████████████████████████████████████| 1000/1000 [13:50<00:00,  1.20it/s]"
     ]
    },
    {
     "name": "stdout",
     "output_type": "stream",
     "text": [
      "10 4.581260091145834 0.4170939996242523 0.412692631483078\n",
      "[4.602138020833333, 4.599530924479167, 4.597584309895833, 4.594644205729166, 4.5918759765625, 4.5884443359375, 4.587548177083333, 4.5849248046875, 4.582319010416666, 4.581260091145834]\n",
      "[0.26634430050849917, 0.295080304145813, 0.3011756598949432, 0.32487206053733825, 0.33828197383880615, 0.3525846316814423, 0.3675091440677643, 0.3832390670776367, 0.40244092369079587, 0.4170939996242523]\n",
      "[0.25589850401878356, 0.28370441651344297, 0.2963235890865326, 0.31293197202682493, 0.3297482509613037, 0.34577216601371763, 0.36243129801750185, 0.3799110963344574, 0.39668389868736265, 0.412692631483078]\n"
     ]
    },
    {
     "name": "stderr",
     "output_type": "stream",
     "text": [
      "\n"
     ]
    }
   ],
   "source": [
    "opt[\"device\"] = torch.device(\"cpu\")\n",
    "opt[\"if_cuda\"] = False\n",
    "opt['data_set']='CIFAR'\n",
    "opt['x_dis']='Logistic'\n",
    "opt['z_channels']=4\n",
    "opt['save_path']='./'+opt['data_set']+'/'+opt['x_dis']+'_z'+str(opt['z_dim'])+'/'\n",
    "opt['dataset_path']='../data/cifar10'\n",
    "\n",
    "\n",
    "load_name='epoch500.pth'\n",
    "model=VAE(opt).to(opt['device'])\n",
    "model.load_state_dict(torch.load(opt['save_path']+load_name))\n",
    "\n",
    "\n",
    "test_data=torchvision.datasets.CIFAR10(opt['dataset_path'], train=False, download=False)\n",
    "test_img=torch.tensor(test_data.data[:1000],dtype=torch.float32).permute(0,3,1,2).contiguous()/255.\n",
    "\n",
    "\n",
    "c_opt={}\n",
    "c_opt['data_set']=opt['data_set']\n",
    "c_opt['device']=opt[\"device\"]\n",
    "c_opt['s_prec']=64\n",
    "c_opt['t_prec']=32\n",
    "c_opt['p_prec']=16\n",
    "c_opt['log_num_discretization']=16\n",
    "c_opt['z_dim']=256\n",
    "c_opt['x_dim']=3072\n",
    "c_opt['discretization_scheme']=std_gaussian_buckets(c_opt['log_num_discretization'])\n",
    "c_opt['discretization_centres']=std_gaussian_centres(c_opt['log_num_discretization'])\n",
    "c_opt['obs_dis']='Logistic'\n",
    "c_opt['optimal']=True\n",
    "c_opt['optimal_lr']=1e-3\n",
    "\n",
    "\n",
    "\n",
    "optimal_bpd=[]\n",
    "optimal_compression_time=[]\n",
    "optimal_decompression_time=[]\n",
    "for c_opt['iterations'] in range(1,11):\n",
    "    bpd,c_time,d_time=test(model,test_img,c_opt['x_dim'],c_opt=c_opt)\n",
    "    optimal_bpd.append(bpd)\n",
    "    optimal_compression_time.append(c_time)\n",
    "    optimal_decompression_time.append(d_time)\n",
    "    print(c_opt['iterations'],bpd,c_time,d_time)\n",
    "\n",
    "    \n",
    "print(optimal_bpd)\n",
    "print(optimal_compression_time)\n",
    "print(optimal_decompression_time)"
   ]
  },
  {
   "cell_type": "code",
   "execution_count": 5,
   "id": "c1abd8f5-a82b-4ebb-9575-49e5be0de0aa",
   "metadata": {},
   "outputs": [
    {
     "name": "stderr",
     "output_type": "stream",
     "text": [
      "100%|███████████████████████████████████████████████████████████████████████████████| 1000/1000 [08:45<00:00,  1.90it/s]\n"
     ]
    },
    {
     "name": "stdout",
     "output_type": "stream",
     "text": [
      "1 4.585474609375 0.26763215303421023 0.2570100436210632\n"
     ]
    },
    {
     "name": "stderr",
     "output_type": "stream",
     "text": [
      "100%|███████████████████████████████████████████████████████████████████████████████| 1000/1000 [09:23<00:00,  1.77it/s]\n"
     ]
    },
    {
     "name": "stdout",
     "output_type": "stream",
     "text": [
      "2 4.583890625 0.2865599238872528 0.27601779794692993\n"
     ]
    },
    {
     "name": "stderr",
     "output_type": "stream",
     "text": [
      "100%|███████████████████████████████████████████████████████████████████████████████| 1000/1000 [09:58<00:00,  1.67it/s]\n"
     ]
    },
    {
     "name": "stdout",
     "output_type": "stream",
     "text": [
      "3 4.582124674479166 0.3037405462265015 0.29428106808662413\n"
     ]
    },
    {
     "name": "stderr",
     "output_type": "stream",
     "text": [
      "100%|███████████████████████████████████████████████████████████████████████████████| 1000/1000 [10:33<00:00,  1.58it/s]\n"
     ]
    },
    {
     "name": "stdout",
     "output_type": "stream",
     "text": [
      "4 4.580689778645833 0.322098073720932 0.310802170753479\n"
     ]
    },
    {
     "name": "stderr",
     "output_type": "stream",
     "text": [
      "100%|███████████████████████████████████████████████████████████████████████████████| 1000/1000 [11:05<00:00,  1.50it/s]\n"
     ]
    },
    {
     "name": "stdout",
     "output_type": "stream",
     "text": [
      "5 4.5791442057291665 0.3364852697849274 0.3276712169647217\n"
     ]
    },
    {
     "name": "stderr",
     "output_type": "stream",
     "text": [
      "100%|███████████████████████████████████████████████████████████████████████████████| 1000/1000 [11:37<00:00,  1.43it/s]\n"
     ]
    },
    {
     "name": "stdout",
     "output_type": "stream",
     "text": [
      "6 4.577649088541667 0.3517449123859406 0.3449600222110748\n"
     ]
    },
    {
     "name": "stderr",
     "output_type": "stream",
     "text": [
      "100%|███████████████████████████████████████████████████████████████████████████████| 1000/1000 [12:15<00:00,  1.36it/s]\n"
     ]
    },
    {
     "name": "stdout",
     "output_type": "stream",
     "text": [
      "7 4.576367838541667 0.37256031537055967 0.3622710509300232\n"
     ]
    },
    {
     "name": "stderr",
     "output_type": "stream",
     "text": [
      "100%|███████████████████████████████████████████████████████████████████████████████| 1000/1000 [12:42<00:00,  1.31it/s]\n"
     ]
    },
    {
     "name": "stdout",
     "output_type": "stream",
     "text": [
      "8 4.574307291666667 0.3820369470119476 0.37975335359573364\n"
     ]
    },
    {
     "name": "stderr",
     "output_type": "stream",
     "text": [
      "100%|███████████████████████████████████████████████████████████████████████████████| 1000/1000 [13:17<00:00,  1.25it/s]\n"
     ]
    },
    {
     "name": "stdout",
     "output_type": "stream",
     "text": [
      "9 4.572964518229166 0.40108308696746825 0.39538962006568906\n"
     ]
    },
    {
     "name": "stderr",
     "output_type": "stream",
     "text": [
      "100%|███████████████████████████████████████████████████████████████████████████████| 1000/1000 [13:49<00:00,  1.21it/s]"
     ]
    },
    {
     "name": "stdout",
     "output_type": "stream",
     "text": [
      "10 4.571695638020833 0.41696087694168094 0.4115753061771393\n",
      "[4.585474609375, 4.583890625, 4.582124674479166, 4.580689778645833, 4.5791442057291665, 4.577649088541667, 4.576367838541667, 4.574307291666667, 4.572964518229166, 4.571695638020833]\n",
      "[0.26763215303421023, 0.2865599238872528, 0.3037405462265015, 0.322098073720932, 0.3364852697849274, 0.3517449123859406, 0.37256031537055967, 0.3820369470119476, 0.40108308696746825, 0.41696087694168094]\n",
      "[0.2570100436210632, 0.27601779794692993, 0.29428106808662413, 0.310802170753479, 0.3276712169647217, 0.3449600222110748, 0.3622710509300232, 0.37975335359573364, 0.39538962006568906, 0.4115753061771393]\n"
     ]
    },
    {
     "name": "stderr",
     "output_type": "stream",
     "text": [
      "\n"
     ]
    }
   ],
   "source": [
    "opt[\"device\"] = torch.device(\"cpu\")\n",
    "opt[\"if_cuda\"] = False\n",
    "opt['data_set']='CIFAR'\n",
    "opt['x_dis']='Logistic'\n",
    "opt['z_channels']=4\n",
    "opt['save_path']='./'+opt['data_set']+'/'+opt['x_dis']+'_z'+str(opt['z_dim'])+'/'\n",
    "opt['dataset_path']='../data/cifar10'\n",
    "\n",
    "\n",
    "load_name='epoch500_improved.pth'\n",
    "model=VAE(opt).to(opt['device'])\n",
    "model.load_state_dict(torch.load(opt['save_path']+load_name))\n",
    "\n",
    "\n",
    "test_data=torchvision.datasets.CIFAR10(opt['dataset_path'], train=False, download=False)\n",
    "test_img=torch.tensor(test_data.data[:1000],dtype=torch.float32).permute(0,3,1,2).contiguous()/255.\n",
    "\n",
    "\n",
    "c_opt={}\n",
    "c_opt['data_set']=opt['data_set']\n",
    "c_opt['device']=opt[\"device\"]\n",
    "c_opt['s_prec']=64\n",
    "c_opt['t_prec']=32\n",
    "c_opt['p_prec']=16\n",
    "c_opt['log_num_discretization']=16\n",
    "c_opt['z_dim']=256\n",
    "c_opt['x_dim']=3072\n",
    "c_opt['discretization_scheme']=std_gaussian_buckets(c_opt['log_num_discretization'])\n",
    "c_opt['discretization_centres']=std_gaussian_centres(c_opt['log_num_discretization'])\n",
    "c_opt['obs_dis']='Logistic'\n",
    "c_opt['optimal']=True\n",
    "c_opt['optimal_lr']=1e-3\n",
    "\n",
    "\n",
    "\n",
    "improved_optimal_bpd=[]\n",
    "improved_optimal_compression_time=[]\n",
    "improved_optimal_decompression_time=[]\n",
    "for c_opt['iterations'] in range(1,11):\n",
    "    bpd,c_time,d_time=test(model,test_img,c_opt['x_dim'],c_opt=c_opt)\n",
    "    improved_optimal_bpd.append(bpd)\n",
    "    improved_optimal_compression_time.append(c_time)\n",
    "    improved_optimal_decompression_time.append(d_time)\n",
    "    print(c_opt['iterations'],bpd,c_time,d_time)\n",
    "\n",
    "    \n",
    "print(improved_optimal_bpd)\n",
    "print(improved_optimal_compression_time)\n",
    "print(improved_optimal_decompression_time)"
   ]
  },
  {
   "cell_type": "code",
   "execution_count": 7,
   "id": "5a4a84cd-7770-47fa-9919-b306b47552e2",
   "metadata": {},
   "outputs": [
    {
     "data": {
      "image/png": "[encoded data removed]",
      "text/plain": [
       "<Figure size 432x288 with 1 Axes>"
      ]
     },
     "metadata": {
      "needs_background": "light"
     },
     "output_type": "display_data"
    }
   ],
   "source": [
    "time_steps=np.arange(1,11)\n",
    "\n",
    "plt.scatter(0,b_bpd,marker='^', label='Baseline',s=100)\n",
    "plt.scatter(0,r_bpd,marker='*', label='R-Half-asleep',s=100)\n",
    "plt.scatter(time_steps,optimal_bpd[0:10], label='Optimal Inference')\n",
    "plt.scatter(time_steps,improved_optimal_bpd[0:10],marker='*', label='R-Half-asleep+Optimal',s=100)\n",
    "\n",
    "plt.legend(prop={'size':12})\n",
    "# plt.ylim(4.595,4.63)\n",
    "plt.show()\n"
   ]
  }
 ],
 "metadata": {
  "kernelspec": {
   "display_name": "Python 3",
   "language": "python",
   "name": "python3"
  },
  "language_info": {
   "codemirror_mode": {
    "name": "ipython",
    "version": 3
   },
   "file_extension": ".py",
   "mimetype": "text/x-python",
   "name": "python",
   "nbconvert_exporter": "python",
   "pygments_lexer": "ipython3",
   "version": "3.9.12"
  }
 },
 "nbformat": 4,
 "nbformat_minor": 5
}
